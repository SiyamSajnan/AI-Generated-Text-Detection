{
  "cells": [
    {
      "cell_type": "markdown",
      "metadata": {
        "id": "I79f_bOUtXeh"
      },
      "source": [
        "# Google Drive Setup"
      ]
    },
    {
      "cell_type": "code",
      "execution_count": null,
      "metadata": {
        "id": "-eQ7QJz8tXei",
        "colab": {
          "base_uri": "https://localhost:8080/"
        },
        "outputId": "d5559e1d-b68d-46d7-edc3-0c49586aea27"
      },
      "outputs": [
        {
          "output_type": "stream",
          "name": "stdout",
          "text": [
            "Mounted at /content/drive\n"
          ]
        }
      ],
      "source": [
        "from google.colab import drive\n",
        "drive.mount('/content/drive')"
      ]
    },
    {
      "cell_type": "code",
      "execution_count": null,
      "metadata": {
        "id": "6iNjCke-tXei"
      },
      "outputs": [],
      "source": [
        "base_dir = '/content/drive/MyDrive/AI_Detection/'"
      ]
    },
    {
      "cell_type": "markdown",
      "metadata": {
        "id": "Oozr6dGGtXei"
      },
      "source": [
        "# Import Libraries"
      ]
    },
    {
      "cell_type": "code",
      "execution_count": null,
      "metadata": {
        "id": "pFSdLGxBtXei"
      },
      "outputs": [],
      "source": [
        "import torch\n",
        "import torch.nn as nn\n",
        "import torch.nn.functional as F\n",
        "from torch.utils.data import DataLoader\n",
        "from transformers import AdamW\n",
        "import numpy as np\n",
        "import pandas as pd\n",
        "from datasets import concatenate_datasets, Dataset\n",
        "from transformers import AutoModel, AutoModelForSequenceClassification, AutoTokenizer, Trainer, TrainingArguments\n",
        "from tqdm import tqdm\n",
        "from sklearn.linear_model import LogisticRegression\n",
        "from sklearn.metrics import accuracy_score"
      ]
    },
    {
      "cell_type": "markdown",
      "metadata": {
        "id": "Ab5dPN74tXej"
      },
      "source": [
        "# Dataset Import"
      ]
    },
    {
      "cell_type": "code",
      "execution_count": null,
      "metadata": {
        "id": "ICBDkoNatXej"
      },
      "outputs": [],
      "source": [
        "# dataset_original = pd.read_csv(base_dir + 'aiDetect.csv')\n",
        "# dataset_original.to_pickle(base_dir + 'aiDetect_pickle.pkl')"
      ]
    },
    {
      "cell_type": "code",
      "source": [
        "df_original = pd.read_pickle(base_dir + 'aiDetect_pickle.pkl')\n",
        "df_original.rename(columns={\"text\": \"sentence\", \"label\": \"labels\"}, inplace=True)"
      ],
      "metadata": {
        "id": "SS9sI-H9XC8j"
      },
      "execution_count": null,
      "outputs": []
    },
    {
      "cell_type": "code",
      "source": [
        "# short_length = 10000\n",
        "# df_0 = df_original[df_original['labels'] == 0].sample(int(short_length / 2), random_state=1)\n",
        "# df_1 = df_original[df_original['labels'] == 1].sample(int(short_length / 2), random_state=1)\n",
        "# df_short = pd.concat([df_0, df_1], axis=0).reset_index(drop=True)"
      ],
      "metadata": {
        "id": "BGjGFQ9tiBpD"
      },
      "execution_count": null,
      "outputs": []
    },
    {
      "cell_type": "markdown",
      "metadata": {
        "id": "8CS8H32htXej"
      },
      "source": [
        "# Model"
      ]
    },
    {
      "cell_type": "code",
      "execution_count": null,
      "metadata": {
        "id": "VpIdpfBCtXek"
      },
      "outputs": [],
      "source": [
        "model_id = 'bert-base-uncased'"
      ]
    },
    {
      "cell_type": "markdown",
      "metadata": {
        "id": "nH72H6MrtXek"
      },
      "source": [
        "# Loss Functions"
      ]
    },
    {
      "cell_type": "markdown",
      "metadata": {
        "id": "jNzs3sDntXek"
      },
      "source": [
        "## Classification Losses - Single sentence column and sentiment label"
      ]
    },
    {
      "cell_type": "markdown",
      "metadata": {
        "id": "apfXyeGNtXek"
      },
      "source": [
        "### Cross-Entropy Loss"
      ]
    },
    {
      "cell_type": "code",
      "execution_count": null,
      "metadata": {
        "id": "MEFooq29tXek"
      },
      "outputs": [],
      "source": [
        "def cross_entropy_loss(logits, labels):\n",
        "    return nn.CrossEntropyLoss()(logits, labels)"
      ]
    },
    {
      "cell_type": "markdown",
      "metadata": {
        "id": "YNfc1OTPtXek"
      },
      "source": [
        "### Label Smoothing Cross-Entropy Loss"
      ]
    },
    {
      "cell_type": "code",
      "execution_count": null,
      "metadata": {
        "id": "LeBzeBC1tXek"
      },
      "outputs": [],
      "source": [
        "def label_smoothing_cross_entropy_loss(logits, labels, smoothing=0.1):\n",
        "    confidence = 1.0 - smoothing\n",
        "    log_probs = F.log_softmax(logits, dim=-1)\n",
        "\n",
        "    # Initializing true distribution with smoothing value for all classes...\n",
        "    true_dist = torch.full_like(log_probs, smoothing / (log_probs.size(1) - 1))\n",
        "    # Setting the true label confidence in the correct class...\n",
        "    true_dist.scatter_(1, labels.unsqueeze(1), confidence)\n",
        "\n",
        "    loss = torch.mean(torch.sum(-true_dist * log_probs, dim=-1))\n",
        "    return loss"
      ]
    },
    {
      "cell_type": "markdown",
      "metadata": {
        "id": "iDdzB7r_tXel"
      },
      "source": [
        "## Embedding Losses"
      ]
    },
    {
      "cell_type": "markdown",
      "metadata": {
        "id": "25bkj5GJtXem"
      },
      "source": [
        "### Pairs - 2 sentence columns and label"
      ]
    },
    {
      "cell_type": "markdown",
      "metadata": {
        "id": "2AFFvZLWtXem"
      },
      "source": [
        "#### Pair Generation"
      ]
    },
    {
      "cell_type": "code",
      "execution_count": null,
      "metadata": {
        "id": "AfrJOeIjtXem"
      },
      "outputs": [],
      "source": [
        "def generate_pairs(embeddings, labels):\n",
        "    embedding1_list = []\n",
        "    embedding2_list = []\n",
        "    similarity_labels = []\n",
        "\n",
        "    for i in range(len(labels)):\n",
        "        for j in range(i + 1, len(labels)):\n",
        "            embedding1 = embeddings[i]\n",
        "            embedding2 = embeddings[j]\n",
        "\n",
        "            # If the labels are the same, labeling the pair as 1 (similar)...\n",
        "            if labels[i] == labels[j]:\n",
        "                similarity_labels.append(1)\n",
        "            else:\n",
        "                # If the labels are different, labeling the pair as 0 (dissimilar)...\n",
        "                similarity_labels.append(0)\n",
        "\n",
        "            embedding1_list.append(embedding1)\n",
        "            embedding2_list.append(embedding2)\n",
        "\n",
        "    embedding1_tensor = torch.stack(embedding1_list)\n",
        "    embedding2_tensor = torch.stack(embedding2_list)\n",
        "    labels_tensor = torch.tensor(similarity_labels).to(labels.device)\n",
        "\n",
        "    return embedding1_tensor, embedding2_tensor, labels_tensor"
      ]
    },
    {
      "cell_type": "markdown",
      "metadata": {
        "id": "agsc9JlytXem"
      },
      "source": [
        "#### CoSENT Loss"
      ]
    },
    {
      "cell_type": "code",
      "execution_count": null,
      "metadata": {
        "id": "VzK4GqCGtXen"
      },
      "outputs": [],
      "source": [
        "def cosent_loss(embeddings, labels, tau=20.0):\n",
        "    embedding1, embedding2, labels = generate_pairs(embeddings, labels)\n",
        "\n",
        "    # Input preparation...\n",
        "    labels = (labels[:, None] < labels[None, :]).float()\n",
        "\n",
        "    # Normalization of Logits...\n",
        "    embedding1 = F.normalize(embedding1, p=2, dim=1)\n",
        "    embedding2 = F.normalize(embedding2, p=2, dim=1)\n",
        "\n",
        "    # Cosine Similarity Calculation...\n",
        "    # The dot product of these pairs gives the cosine similarity, scaled by a factor of tau to control the sharpness of similarity scores...\n",
        "    y_pred = torch.sum(embedding1 * embedding2, dim=1) * tau\n",
        "\n",
        "    # Pairwise cosine similarity difference calculation...\n",
        "    y_pred = y_pred[:, None] - y_pred[None, :]\n",
        "\n",
        "    y_pred = (y_pred - (1 - labels) * 1e12).view(-1)\n",
        "\n",
        "    zero = torch.Tensor([0]).to(y_pred.device)\n",
        "    y_pred = torch.concat((zero, y_pred), dim=0)\n",
        "    return torch.logsumexp(y_pred, dim=0)"
      ]
    },
    {
      "cell_type": "markdown",
      "metadata": {
        "id": "7a8X7XsntXen"
      },
      "source": [
        "#### In-Batch Negatives Loss"
      ]
    },
    {
      "cell_type": "code",
      "execution_count": null,
      "metadata": {
        "id": "8NUl-oOytXen"
      },
      "outputs": [],
      "source": [
        "def categorical_crossentropy(y_true: torch.Tensor, y_pred: torch.Tensor) -> torch.Tensor:\n",
        "    return -(F.log_softmax(y_pred, dim=1) * y_true).sum(dim=1)\n",
        "\n",
        "def in_batch_negative_loss(embeddings,\n",
        "                           labels,\n",
        "                           tau: float = 20.0,\n",
        "                           negative_weights: float = 0.0) -> torch.Tensor:\n",
        "    device = labels.device\n",
        "    embedding1, embedding2, labels = generate_pairs(embeddings, labels)\n",
        "\n",
        "    y_pred = torch.empty((2 * embedding1.shape[0], embedding1.shape[1]), device=device)\n",
        "    y_pred[0::2] = embedding1\n",
        "    y_pred[1::2] = embedding2\n",
        "    y_true = labels.repeat_interleave(2).unsqueeze(1)\n",
        "\n",
        "    def make_target_matrix(y_true: torch.Tensor):\n",
        "        idxs = torch.arange(0, y_pred.shape[0]).int().to(device)\n",
        "        y_true = y_true.int()\n",
        "        idxs_1 = idxs[None, :]\n",
        "        idxs_2 = (idxs + 1 - idxs % 2 * 2)[:, None]\n",
        "\n",
        "        idxs_1 *= y_true.T\n",
        "        idxs_1 += (y_true.T == 0).int() * -2\n",
        "\n",
        "        idxs_2 *= y_true\n",
        "        idxs_2 += (y_true == 0).int() * -1\n",
        "\n",
        "        y_true = (idxs_1 == idxs_2).float()\n",
        "        return y_true\n",
        "\n",
        "    neg_mask = make_target_matrix(y_true == 0)\n",
        "\n",
        "    y_true = make_target_matrix(y_true)\n",
        "\n",
        "    y_pred = F.normalize(y_pred, dim=1, p=2)\n",
        "    similarities = y_pred @ y_pred.T\n",
        "    similarities = similarities - torch.eye(y_pred.shape[0]).to(device) * 1e12\n",
        "    similarities = similarities * tau\n",
        "\n",
        "    if negative_weights > 0:\n",
        "        similarities += neg_mask * negative_weights\n",
        "\n",
        "    return categorical_crossentropy(y_true, similarities).mean()"
      ]
    },
    {
      "cell_type": "markdown",
      "metadata": {
        "id": "WhK10GY-tXen"
      },
      "source": [
        "#### Angle Loss"
      ]
    },
    {
      "cell_type": "code",
      "execution_count": null,
      "metadata": {
        "id": "LpBlfBRxtXen"
      },
      "outputs": [],
      "source": [
        "def angle_loss(embeddings, labels, tau=1.0):\n",
        "    embedding1, embedding2, labels = generate_pairs(embeddings, labels)\n",
        "\n",
        "    # Input preparation...\n",
        "    labels = (labels[:, None] < labels[None, :]).float()\n",
        "\n",
        "    # Chunking into real and imaginary parts...\n",
        "    y_pred_re1, y_pred_im1 = torch.chunk(embedding1, 2, dim=1)\n",
        "    y_pred_re2, y_pred_im2 = torch.chunk(embedding2, 2, dim=1)\n",
        "\n",
        "    a = y_pred_re1\n",
        "    b = y_pred_im1\n",
        "    c = y_pred_re2\n",
        "    d = y_pred_im2\n",
        "\n",
        "    z = torch.sum(c**2 + d**2, dim=1, keepdim=True)\n",
        "    re = (a * c + b * d) / z\n",
        "    im = (b * c - a * d) / z\n",
        "\n",
        "    dz = torch.sum(a**2 + b**2, dim=1, keepdim=True)**0.5\n",
        "    dw = torch.sum(c**2 + d**2, dim=1, keepdim=True)**0.5\n",
        "    re /= (dz / dw)\n",
        "    im /= (dz / dw)\n",
        "\n",
        "    y_pred = torch.concat((re, im), dim=1)\n",
        "    y_pred = torch.abs(torch.sum(y_pred, dim=1)) * tau\n",
        "    y_pred = y_pred[:, None] - y_pred[None, :]\n",
        "    y_pred = (y_pred - (1 - labels) * 1e12).view(-1)\n",
        "    zero = torch.Tensor([0]).to(y_pred.device)\n",
        "    y_pred = torch.concat((zero, y_pred), dim=0)\n",
        "    return torch.logsumexp(y_pred, dim=0)"
      ]
    },
    {
      "cell_type": "markdown",
      "metadata": {
        "id": "8w5yBZ3P_4QP"
      },
      "source": [
        "#### Combination of CoSENT, In-Batch Negatives and Angle Losses"
      ]
    },
    {
      "cell_type": "code",
      "execution_count": null,
      "metadata": {
        "id": "fvZShKsb_4QP"
      },
      "outputs": [],
      "source": [
        "def cosent_ibn_angle(embeddings, labels, tau_cosent=20.0, tau_ibn=20.0, tau_angle=1.0):\n",
        "    return cosent_loss(embeddings, labels, tau_cosent) + in_batch_negative_loss(embeddings, labels, tau_ibn) + angle_loss(embeddings, labels, tau_angle)"
      ]
    },
    {
      "cell_type": "markdown",
      "metadata": {
        "id": "1bymqJNrtXen"
      },
      "source": [
        "## Loss List"
      ]
    },
    {
      "cell_type": "code",
      "execution_count": null,
      "metadata": {
        "id": "o9fkdVaftXen"
      },
      "outputs": [],
      "source": [
        "losses = [\n",
        "    {'loss_name': 'without_ft', 'model_type': 'emb', 'loss_kwargs': {}},\n",
        "    {'loss_name': 'cross_entropy_loss', 'model_type': 'clf', 'loss_kwargs': {}},\n",
        "    # {'loss_name': 'cosent_loss', 'model_type': 'emb', 'loss_kwargs': {'tau': 20.0}},\n",
        "    # {'loss_name': 'in_batch_negative_loss', 'model_type': 'emb', 'loss_kwargs': {'tau': 20.0}},\n",
        "    # {'loss_name': 'angle_loss', 'model_type': 'emb', 'loss_kwargs': {'tau': 1.0}},\n",
        "    {'loss_name': 'cosent_ibn_angle', 'model_type': 'emb', 'loss_kwargs': {'tau_cosent': 20.0, 'tau_ibn': 20.0, 'tau_angle': 1.0}}\n",
        "]"
      ]
    },
    {
      "cell_type": "markdown",
      "metadata": {
        "id": "2xZP2rqztXen"
      },
      "source": [
        "# Training"
      ]
    },
    {
      "cell_type": "markdown",
      "metadata": {
        "id": "0Pub9k1GtXer"
      },
      "source": [
        "### Training Preparation"
      ]
    },
    {
      "cell_type": "markdown",
      "metadata": {
        "id": "vWIEH87HtXes"
      },
      "source": [
        "#### Device Setting"
      ]
    },
    {
      "cell_type": "code",
      "execution_count": null,
      "metadata": {
        "id": "aG13APXGtXes"
      },
      "outputs": [],
      "source": [
        "device = torch.device('cuda') if torch.cuda.is_available() else torch.device('cpu')"
      ]
    },
    {
      "cell_type": "markdown",
      "metadata": {
        "id": "mgYCycIotXes"
      },
      "source": [
        "#### Dataset Preparation"
      ]
    },
    {
      "cell_type": "code",
      "execution_count": null,
      "metadata": {
        "id": "-hyHiHsbtXes"
      },
      "outputs": [],
      "source": [
        "def prepare_dataset(df, columns):\n",
        "    # Dataset Import...\n",
        "    ds = Dataset.from_pandas(df[columns])\n",
        "\n",
        "    # Random Split...\n",
        "    train_test_split = ds.train_test_split(test_size=0.30)\n",
        "    train_dataset = train_test_split['train']\n",
        "    test_dataset = train_test_split['test']\n",
        "    return train_dataset, test_dataset"
      ]
    },
    {
      "cell_type": "markdown",
      "metadata": {
        "id": "FeU8f4R3tXes"
      },
      "source": [
        "#### Model and Tokenizer Preparation"
      ]
    },
    {
      "cell_type": "code",
      "execution_count": null,
      "metadata": {
        "id": "BmDSo6ZVtXes"
      },
      "outputs": [],
      "source": [
        "def get_model_tokenizer(model_id, type='clf'):\n",
        "    if type == 'clf':\n",
        "        model = AutoModelForSequenceClassification.from_pretrained(model_id)\n",
        "    else:\n",
        "        model = AutoModel.from_pretrained(model_id)\n",
        "    tokenizer = AutoTokenizer.from_pretrained(model_id)\n",
        "    model.to(device)\n",
        "    return model, tokenizer"
      ]
    },
    {
      "cell_type": "markdown",
      "metadata": {
        "id": "227Ztc_3tXes"
      },
      "source": [
        "#### Dataset Tokenization and Batch Processing"
      ]
    },
    {
      "cell_type": "code",
      "execution_count": null,
      "metadata": {
        "id": "N2PM_ceutXes"
      },
      "outputs": [],
      "source": [
        "def tokenize_dataset_batch(train_dataset, test_dataset, tokenizer, batch_size):\n",
        "    def tokenize_function(examples):\n",
        "        return tokenizer(examples['sentence'], padding='max_length', truncation=True, max_length=128)\n",
        "\n",
        "    train_dataset = train_dataset.map(tokenize_function, batched=True)\n",
        "    test_dataset = test_dataset.map(tokenize_function, batched=True)\n",
        "\n",
        "    # Torch format setting...\n",
        "    train_dataset.set_format(type='torch', columns=['input_ids', 'attention_mask', 'labels'])\n",
        "    test_dataset.set_format(type='torch', columns=['input_ids', 'attention_mask', 'labels'])\n",
        "\n",
        "    # Batching using DataLoader...\n",
        "    train_loader = DataLoader(train_dataset, batch_size=batch_size, shuffle=True)\n",
        "    test_loader = DataLoader(test_dataset, batch_size=batch_size)\n",
        "    return train_loader, test_loader"
      ]
    },
    {
      "cell_type": "markdown",
      "metadata": {
        "id": "1bIsWaWhtXet"
      },
      "source": [
        "#### Embedding Extraction"
      ]
    },
    {
      "cell_type": "code",
      "execution_count": null,
      "metadata": {
        "id": "tVAgb7VCtXet"
      },
      "outputs": [],
      "source": [
        "def extract_embeddings(model, device, dataloader):\n",
        "    all_embeddings = []\n",
        "    all_labels = []\n",
        "\n",
        "    with torch.no_grad():\n",
        "        for batch in tqdm(dataloader, desc=\"Extracting embeddings\", leave=False):\n",
        "            batch = {k: v.to(device) for k, v in batch.items()}\n",
        "            outputs = model(input_ids=batch['input_ids'], attention_mask=batch['attention_mask'])\n",
        "\n",
        "            # [CLS] token embeddings...\n",
        "            embeddings = outputs.last_hidden_state[:, 0, :]\n",
        "            all_embeddings.append(embeddings.cpu())\n",
        "            all_labels.append(batch['labels'].cpu())\n",
        "\n",
        "    return torch.cat(all_embeddings), torch.cat(all_labels)"
      ]
    },
    {
      "cell_type": "markdown",
      "metadata": {
        "id": "aefvaa_xtXet"
      },
      "source": [
        "#### Train and Evaluation Drivers"
      ]
    },
    {
      "cell_type": "code",
      "execution_count": null,
      "metadata": {
        "id": "BCdIRLputXet"
      },
      "outputs": [],
      "source": [
        "def train(model, train_loader, model_type='clf', epochs=10, loss_name='cross_entropy_loss', **loss_kwargs):\n",
        "    # Optimizer setting...\n",
        "    optimizer = AdamW(model.parameters(), lr=5e-5)\n",
        "\n",
        "    # Training loop...\n",
        "    num_epochs = epochs\n",
        "    model.train()\n",
        "    for epoch in range(num_epochs):\n",
        "        # print(f\"Epoch {epoch + 1}/{num_epochs}\")\n",
        "        for batch in tqdm(train_loader, desc=\"Training\", leave=False):\n",
        "            batch = {k: v.to(device) for k, v in batch.items()}\n",
        "\n",
        "            if model_type == 'clf':\n",
        "                # Cross-Entropy Losses...\n",
        "                outputs = model(**batch)\n",
        "                logits = outputs.logits\n",
        "                loss = globals()[loss_name](logits, batch['labels'], **loss_kwargs)\n",
        "            else:\n",
        "                # Embedding Loss...\n",
        "                outputs = model(input_ids=batch['input_ids'], attention_mask=batch['attention_mask'])\n",
        "\n",
        "                # [CLS] token embedding...\n",
        "                embeddings = outputs.last_hidden_state[:, 0, :]\n",
        "                loss = globals()[loss_name](embeddings, batch['labels'], **loss_kwargs)\n",
        "                if loss == 0.0:\n",
        "                    continue\n",
        "\n",
        "            # Backpropagation...\n",
        "            loss.backward()\n",
        "\n",
        "            # Updating weights...\n",
        "            optimizer.step()\n",
        "            optimizer.zero_grad()\n",
        "    return model"
      ]
    },
    {
      "cell_type": "code",
      "execution_count": null,
      "metadata": {
        "id": "WcqhP41itXet"
      },
      "outputs": [],
      "source": [
        "def evaluate_clf(model, test_loader):\n",
        "    model.eval()\n",
        "    total_correct = 0\n",
        "    total_samples = 0\n",
        "\n",
        "    with torch.no_grad():\n",
        "        for batch in test_loader:\n",
        "            batch = {k: v.to(device) for k, v in batch.items()}\n",
        "\n",
        "            # Forward pass...\n",
        "            outputs = model(**batch)\n",
        "            predictions = outputs.logits.argmax(dim=-1)\n",
        "\n",
        "            total_correct += (predictions == batch['labels']).sum().item()\n",
        "            total_samples += batch['labels'].size(0)\n",
        "\n",
        "    accuracy = total_correct / total_samples\n",
        "    return accuracy"
      ]
    },
    {
      "cell_type": "code",
      "execution_count": null,
      "metadata": {
        "id": "YSGLNB9ltXet"
      },
      "outputs": [],
      "source": [
        "def evaluate_emb(model, train_loader, test_loader):\n",
        "    model.eval()\n",
        "\n",
        "    # Generating embeddings of the train and test sentences...\n",
        "    train_embeddings, train_labels = extract_embeddings(model, device, train_loader)\n",
        "    test_embeddings, test_labels = extract_embeddings(model, device, test_loader)\n",
        "\n",
        "    train_embeddings_np = train_embeddings.numpy()\n",
        "    test_embeddings_np = test_embeddings.numpy()\n",
        "    train_labels_np = train_labels.numpy()\n",
        "    test_labels_np = test_labels.numpy()\n",
        "\n",
        "    # Training a Logistic Regression classifier on the training embeddings...\n",
        "    lr_clf = LogisticRegression(max_iter=10000)\n",
        "    lr_clf.fit(train_embeddings_np, train_labels_np)\n",
        "\n",
        "    # Predicting the labels for the test set...\n",
        "    test_predictions = lr_clf.predict(test_embeddings_np)\n",
        "    accuracy = accuracy_score(test_labels_np, test_predictions)\n",
        "    return accuracy"
      ]
    },
    {
      "cell_type": "markdown",
      "metadata": {
        "id": "v-SnzG5itXeu"
      },
      "source": [
        "### Loop"
      ]
    },
    {
      "cell_type": "code",
      "execution_count": null,
      "metadata": {
        "id": "mmkO2GJvtXeu",
        "outputId": "79ad4578-a024-45a9-ca63-1ec4accd3ba9",
        "colab": {
          "base_uri": "https://localhost:8080/",
          "height": 136,
          "referenced_widgets": [
            "ddcfd1c554254947a9dd3c6b31da1612",
            "0a56377a6ab447d4b029b9a59b12bced",
            "ae678435c8e143f7bf3fff253c5bbb0c",
            "b9b560796e5f428ea63e9d5ad7f496dd",
            "9b5ec3ffa64a4204aebe3929af7d692a",
            "4818cd6094744ea2a54aca261115886e",
            "51afbf31fd824a1cb26c2f1a48a06510",
            "aaec68a9d2f6409eb2f6b636ca4fb984",
            "cefc41376a0a4571b3f25b458947555f",
            "a0171fffbe014a7286dc2e8a9416c2e9",
            "de4be3fd3fac4b708fdf07dbd47585d5",
            "5303f1e5fc1342d68064155a0a4ab4f8",
            "b20986fe0e9c4d9a9ad5a8da81b56fd8",
            "6308a5598f894858957379bbc6c3e22e",
            "3211b20926c641f0a63671ec4e062ab5",
            "2ca7afdd02854f4bb00504a44a2ddaba",
            "06f873c22e724c3fb89b4af859a1c4f6",
            "97b451d71e954fd4af6fcf14b87c797e",
            "847c3c2fa89247b29857d208bb09f590",
            "075c5b2d94e446a69c16db4362c7ea5e",
            "08b62386109a471899438da75d59c05a",
            "d0fab65ecae840aface65a0f3dfbe1ff"
          ]
        }
      },
      "outputs": [
        {
          "output_type": "stream",
          "name": "stderr",
          "text": [
            "/usr/local/lib/python3.10/dist-packages/transformers/tokenization_utils_base.py:1601: FutureWarning: `clean_up_tokenization_spaces` was not set. It will be set to `True` by default. This behavior will be depracted in transformers v4.45, and will be then set to `False` by default. For more details check this issue: https://github.com/huggingface/transformers/issues/31884\n",
            "  warnings.warn(\n"
          ]
        },
        {
          "output_type": "display_data",
          "data": {
            "text/plain": [
              "Map:   0%|          | 0/3500 [00:00<?, ? examples/s]"
            ],
            "application/vnd.jupyter.widget-view+json": {
              "version_major": 2,
              "version_minor": 0,
              "model_id": "ddcfd1c554254947a9dd3c6b31da1612"
            }
          },
          "metadata": {}
        },
        {
          "output_type": "display_data",
          "data": {
            "text/plain": [
              "Map:   0%|          | 0/1500 [00:00<?, ? examples/s]"
            ],
            "application/vnd.jupyter.widget-view+json": {
              "version_major": 2,
              "version_minor": 0,
              "model_id": "5303f1e5fc1342d68064155a0a4ab4f8"
            }
          },
          "metadata": {}
        },
        {
          "output_type": "stream",
          "name": "stderr",
          "text": []
        }
      ],
      "source": [
        "total_runs = 3\n",
        "batch_size = 60\n",
        "accuracy_list = []\n",
        "for loss in losses:\n",
        "    loss_name = loss['loss_name']\n",
        "    model_type = loss['model_type']\n",
        "    loss_kwargs = loss['loss_kwargs']\n",
        "\n",
        "    total_accuracy = 0.\n",
        "    for loop_count in range(0, total_runs):\n",
        "        # Dataset Preparation...\n",
        "        train_dataset, test_dataset = prepare_dataset(df_original, ['sentence', 'labels'])\n",
        "\n",
        "        # Model Preparation...\n",
        "        model, tokenizer = get_model_tokenizer(model_id, model_type)\n",
        "\n",
        "        # Tokenize Batch...\n",
        "        train_loader, test_loader = tokenize_dataset_batch(train_dataset, test_dataset, tokenizer, batch_size=batch_size)\n",
        "\n",
        "        # Training Loop...\n",
        "        if loss_name != 'without_ft':\n",
        "            model = train(model, train_loader, model_type, epochs=10, loss_name=loss_name, **loss_kwargs)\n",
        "\n",
        "        # Evaluation loop...\n",
        "        if model_type == 'clf':\n",
        "            accuracy = evaluate_clf(model, test_loader)\n",
        "        else:\n",
        "            accuracy = evaluate_emb(model, train_loader, test_loader)\n",
        "        total_accuracy += accuracy\n",
        "    accuracy_list.append({'loss': loss_name, 'accuracy': total_accuracy / total_runs})"
      ]
    },
    {
      "cell_type": "code",
      "execution_count": null,
      "metadata": {
        "id": "rQbaTjn7tXeu",
        "outputId": "98e4b2e4-ff3d-4ced-e2a6-f3bad5d4ee4a",
        "colab": {
          "base_uri": "https://localhost:8080/"
        }
      },
      "outputs": [
        {
          "output_type": "execute_result",
          "data": {
            "text/plain": [
              "[{'loss': 'without_ft', 'accuracy': 0.8846666666666667},\n",
              " {'loss': 'cross_entropy_loss', 'accuracy': 0.9216827392819182},\n",
              " {'loss': 'cosent_ibn_angle', 'accuracy': 0.9799182733627181}]"
            ]
          },
          "metadata": {},
          "execution_count": 122
        }
      ],
      "source": [
        "accuracy_list"
      ]
    }
  ],
  "metadata": {
    "colab": {
      "collapsed_sections": [
        "I79f_bOUtXeh",
        "Oozr6dGGtXei",
        "Ab5dPN74tXej",
        "8CS8H32htXej",
        "nH72H6MrtXek",
        "jNzs3sDntXek",
        "apfXyeGNtXek",
        "iDdzB7r_tXel",
        "l4oMmjCWtXel",
        "H7VOTPqutXel",
        "tmjabu1otXem",
        "25bkj5GJtXem",
        "2AFFvZLWtXem",
        "agsc9JlytXem",
        "7a8X7XsntXen",
        "WhK10GY-tXen",
        "1bymqJNrtXen",
        "2xZP2rqztXen",
        "0Pub9k1GtXer",
        "vWIEH87HtXes",
        "mgYCycIotXes",
        "FeU8f4R3tXes",
        "227Ztc_3tXes",
        "1bIsWaWhtXet",
        "aefvaa_xtXet",
        "v-SnzG5itXeu"
      ],
      "provenance": [],
      "gpuType": "T4"
    },
    "kernelspec": {
      "display_name": "Python 3",
      "name": "python3"
    },
    "language_info": {
      "codemirror_mode": {
        "name": "ipython",
        "version": 3
      },
      "file_extension": ".py",
      "mimetype": "text/x-python",
      "name": "python",
      "nbconvert_exporter": "python",
      "pygments_lexer": "ipython3",
      "version": "3.10.12"
    },
    "widgets": {
      "application/vnd.jupyter.widget-state+json": {
        "ddcfd1c554254947a9dd3c6b31da1612": {
          "model_module": "@jupyter-widgets/controls",
          "model_name": "HBoxModel",
          "model_module_version": "1.5.0",
          "state": {
            "_dom_classes": [],
            "_model_module": "@jupyter-widgets/controls",
            "_model_module_version": "1.5.0",
            "_model_name": "HBoxModel",
            "_view_count": null,
            "_view_module": "@jupyter-widgets/controls",
            "_view_module_version": "1.5.0",
            "_view_name": "HBoxView",
            "box_style": "",
            "children": [
              "IPY_MODEL_0a56377a6ab447d4b029b9a59b12bced",
              "IPY_MODEL_ae678435c8e143f7bf3fff253c5bbb0c",
              "IPY_MODEL_b9b560796e5f428ea63e9d5ad7f496dd"
            ],
            "layout": "IPY_MODEL_9b5ec3ffa64a4204aebe3929af7d692a"
          }
        },
        "0a56377a6ab447d4b029b9a59b12bced": {
          "model_module": "@jupyter-widgets/controls",
          "model_name": "HTMLModel",
          "model_module_version": "1.5.0",
          "state": {
            "_dom_classes": [],
            "_model_module": "@jupyter-widgets/controls",
            "_model_module_version": "1.5.0",
            "_model_name": "HTMLModel",
            "_view_count": null,
            "_view_module": "@jupyter-widgets/controls",
            "_view_module_version": "1.5.0",
            "_view_name": "HTMLView",
            "description": "",
            "description_tooltip": null,
            "layout": "IPY_MODEL_4818cd6094744ea2a54aca261115886e",
            "placeholder": "​",
            "style": "IPY_MODEL_51afbf31fd824a1cb26c2f1a48a06510",
            "value": "Map: 100%"
          }
        },
        "ae678435c8e143f7bf3fff253c5bbb0c": {
          "model_module": "@jupyter-widgets/controls",
          "model_name": "FloatProgressModel",
          "model_module_version": "1.5.0",
          "state": {
            "_dom_classes": [],
            "_model_module": "@jupyter-widgets/controls",
            "_model_module_version": "1.5.0",
            "_model_name": "FloatProgressModel",
            "_view_count": null,
            "_view_module": "@jupyter-widgets/controls",
            "_view_module_version": "1.5.0",
            "_view_name": "ProgressView",
            "bar_style": "success",
            "description": "",
            "description_tooltip": null,
            "layout": "IPY_MODEL_aaec68a9d2f6409eb2f6b636ca4fb984",
            "max": 3500,
            "min": 0,
            "orientation": "horizontal",
            "style": "IPY_MODEL_cefc41376a0a4571b3f25b458947555f",
            "value": 3500
          }
        },
        "b9b560796e5f428ea63e9d5ad7f496dd": {
          "model_module": "@jupyter-widgets/controls",
          "model_name": "HTMLModel",
          "model_module_version": "1.5.0",
          "state": {
            "_dom_classes": [],
            "_model_module": "@jupyter-widgets/controls",
            "_model_module_version": "1.5.0",
            "_model_name": "HTMLModel",
            "_view_count": null,
            "_view_module": "@jupyter-widgets/controls",
            "_view_module_version": "1.5.0",
            "_view_name": "HTMLView",
            "description": "",
            "description_tooltip": null,
            "layout": "IPY_MODEL_a0171fffbe014a7286dc2e8a9416c2e9",
            "placeholder": "​",
            "style": "IPY_MODEL_de4be3fd3fac4b708fdf07dbd47585d5",
            "value": " 3500/3500 [00:04&lt;00:00, 777.45 examples/s]"
          }
        },
        "9b5ec3ffa64a4204aebe3929af7d692a": {
          "model_module": "@jupyter-widgets/base",
          "model_name": "LayoutModel",
          "model_module_version": "1.2.0",
          "state": {
            "_model_module": "@jupyter-widgets/base",
            "_model_module_version": "1.2.0",
            "_model_name": "LayoutModel",
            "_view_count": null,
            "_view_module": "@jupyter-widgets/base",
            "_view_module_version": "1.2.0",
            "_view_name": "LayoutView",
            "align_content": null,
            "align_items": null,
            "align_self": null,
            "border": null,
            "bottom": null,
            "display": null,
            "flex": null,
            "flex_flow": null,
            "grid_area": null,
            "grid_auto_columns": null,
            "grid_auto_flow": null,
            "grid_auto_rows": null,
            "grid_column": null,
            "grid_gap": null,
            "grid_row": null,
            "grid_template_areas": null,
            "grid_template_columns": null,
            "grid_template_rows": null,
            "height": null,
            "justify_content": null,
            "justify_items": null,
            "left": null,
            "margin": null,
            "max_height": null,
            "max_width": null,
            "min_height": null,
            "min_width": null,
            "object_fit": null,
            "object_position": null,
            "order": null,
            "overflow": null,
            "overflow_x": null,
            "overflow_y": null,
            "padding": null,
            "right": null,
            "top": null,
            "visibility": null,
            "width": null
          }
        },
        "4818cd6094744ea2a54aca261115886e": {
          "model_module": "@jupyter-widgets/base",
          "model_name": "LayoutModel",
          "model_module_version": "1.2.0",
          "state": {
            "_model_module": "@jupyter-widgets/base",
            "_model_module_version": "1.2.0",
            "_model_name": "LayoutModel",
            "_view_count": null,
            "_view_module": "@jupyter-widgets/base",
            "_view_module_version": "1.2.0",
            "_view_name": "LayoutView",
            "align_content": null,
            "align_items": null,
            "align_self": null,
            "border": null,
            "bottom": null,
            "display": null,
            "flex": null,
            "flex_flow": null,
            "grid_area": null,
            "grid_auto_columns": null,
            "grid_auto_flow": null,
            "grid_auto_rows": null,
            "grid_column": null,
            "grid_gap": null,
            "grid_row": null,
            "grid_template_areas": null,
            "grid_template_columns": null,
            "grid_template_rows": null,
            "height": null,
            "justify_content": null,
            "justify_items": null,
            "left": null,
            "margin": null,
            "max_height": null,
            "max_width": null,
            "min_height": null,
            "min_width": null,
            "object_fit": null,
            "object_position": null,
            "order": null,
            "overflow": null,
            "overflow_x": null,
            "overflow_y": null,
            "padding": null,
            "right": null,
            "top": null,
            "visibility": null,
            "width": null
          }
        },
        "51afbf31fd824a1cb26c2f1a48a06510": {
          "model_module": "@jupyter-widgets/controls",
          "model_name": "DescriptionStyleModel",
          "model_module_version": "1.5.0",
          "state": {
            "_model_module": "@jupyter-widgets/controls",
            "_model_module_version": "1.5.0",
            "_model_name": "DescriptionStyleModel",
            "_view_count": null,
            "_view_module": "@jupyter-widgets/base",
            "_view_module_version": "1.2.0",
            "_view_name": "StyleView",
            "description_width": ""
          }
        },
        "aaec68a9d2f6409eb2f6b636ca4fb984": {
          "model_module": "@jupyter-widgets/base",
          "model_name": "LayoutModel",
          "model_module_version": "1.2.0",
          "state": {
            "_model_module": "@jupyter-widgets/base",
            "_model_module_version": "1.2.0",
            "_model_name": "LayoutModel",
            "_view_count": null,
            "_view_module": "@jupyter-widgets/base",
            "_view_module_version": "1.2.0",
            "_view_name": "LayoutView",
            "align_content": null,
            "align_items": null,
            "align_self": null,
            "border": null,
            "bottom": null,
            "display": null,
            "flex": null,
            "flex_flow": null,
            "grid_area": null,
            "grid_auto_columns": null,
            "grid_auto_flow": null,
            "grid_auto_rows": null,
            "grid_column": null,
            "grid_gap": null,
            "grid_row": null,
            "grid_template_areas": null,
            "grid_template_columns": null,
            "grid_template_rows": null,
            "height": null,
            "justify_content": null,
            "justify_items": null,
            "left": null,
            "margin": null,
            "max_height": null,
            "max_width": null,
            "min_height": null,
            "min_width": null,
            "object_fit": null,
            "object_position": null,
            "order": null,
            "overflow": null,
            "overflow_x": null,
            "overflow_y": null,
            "padding": null,
            "right": null,
            "top": null,
            "visibility": null,
            "width": null
          }
        },
        "cefc41376a0a4571b3f25b458947555f": {
          "model_module": "@jupyter-widgets/controls",
          "model_name": "ProgressStyleModel",
          "model_module_version": "1.5.0",
          "state": {
            "_model_module": "@jupyter-widgets/controls",
            "_model_module_version": "1.5.0",
            "_model_name": "ProgressStyleModel",
            "_view_count": null,
            "_view_module": "@jupyter-widgets/base",
            "_view_module_version": "1.2.0",
            "_view_name": "StyleView",
            "bar_color": null,
            "description_width": ""
          }
        },
        "a0171fffbe014a7286dc2e8a9416c2e9": {
          "model_module": "@jupyter-widgets/base",
          "model_name": "LayoutModel",
          "model_module_version": "1.2.0",
          "state": {
            "_model_module": "@jupyter-widgets/base",
            "_model_module_version": "1.2.0",
            "_model_name": "LayoutModel",
            "_view_count": null,
            "_view_module": "@jupyter-widgets/base",
            "_view_module_version": "1.2.0",
            "_view_name": "LayoutView",
            "align_content": null,
            "align_items": null,
            "align_self": null,
            "border": null,
            "bottom": null,
            "display": null,
            "flex": null,
            "flex_flow": null,
            "grid_area": null,
            "grid_auto_columns": null,
            "grid_auto_flow": null,
            "grid_auto_rows": null,
            "grid_column": null,
            "grid_gap": null,
            "grid_row": null,
            "grid_template_areas": null,
            "grid_template_columns": null,
            "grid_template_rows": null,
            "height": null,
            "justify_content": null,
            "justify_items": null,
            "left": null,
            "margin": null,
            "max_height": null,
            "max_width": null,
            "min_height": null,
            "min_width": null,
            "object_fit": null,
            "object_position": null,
            "order": null,
            "overflow": null,
            "overflow_x": null,
            "overflow_y": null,
            "padding": null,
            "right": null,
            "top": null,
            "visibility": null,
            "width": null
          }
        },
        "de4be3fd3fac4b708fdf07dbd47585d5": {
          "model_module": "@jupyter-widgets/controls",
          "model_name": "DescriptionStyleModel",
          "model_module_version": "1.5.0",
          "state": {
            "_model_module": "@jupyter-widgets/controls",
            "_model_module_version": "1.5.0",
            "_model_name": "DescriptionStyleModel",
            "_view_count": null,
            "_view_module": "@jupyter-widgets/base",
            "_view_module_version": "1.2.0",
            "_view_name": "StyleView",
            "description_width": ""
          }
        },
        "5303f1e5fc1342d68064155a0a4ab4f8": {
          "model_module": "@jupyter-widgets/controls",
          "model_name": "HBoxModel",
          "model_module_version": "1.5.0",
          "state": {
            "_dom_classes": [],
            "_model_module": "@jupyter-widgets/controls",
            "_model_module_version": "1.5.0",
            "_model_name": "HBoxModel",
            "_view_count": null,
            "_view_module": "@jupyter-widgets/controls",
            "_view_module_version": "1.5.0",
            "_view_name": "HBoxView",
            "box_style": "",
            "children": [
              "IPY_MODEL_b20986fe0e9c4d9a9ad5a8da81b56fd8",
              "IPY_MODEL_6308a5598f894858957379bbc6c3e22e",
              "IPY_MODEL_3211b20926c641f0a63671ec4e062ab5"
            ],
            "layout": "IPY_MODEL_2ca7afdd02854f4bb00504a44a2ddaba"
          }
        },
        "b20986fe0e9c4d9a9ad5a8da81b56fd8": {
          "model_module": "@jupyter-widgets/controls",
          "model_name": "HTMLModel",
          "model_module_version": "1.5.0",
          "state": {
            "_dom_classes": [],
            "_model_module": "@jupyter-widgets/controls",
            "_model_module_version": "1.5.0",
            "_model_name": "HTMLModel",
            "_view_count": null,
            "_view_module": "@jupyter-widgets/controls",
            "_view_module_version": "1.5.0",
            "_view_name": "HTMLView",
            "description": "",
            "description_tooltip": null,
            "layout": "IPY_MODEL_06f873c22e724c3fb89b4af859a1c4f6",
            "placeholder": "​",
            "style": "IPY_MODEL_97b451d71e954fd4af6fcf14b87c797e",
            "value": "Map: 100%"
          }
        },
        "6308a5598f894858957379bbc6c3e22e": {
          "model_module": "@jupyter-widgets/controls",
          "model_name": "FloatProgressModel",
          "model_module_version": "1.5.0",
          "state": {
            "_dom_classes": [],
            "_model_module": "@jupyter-widgets/controls",
            "_model_module_version": "1.5.0",
            "_model_name": "FloatProgressModel",
            "_view_count": null,
            "_view_module": "@jupyter-widgets/controls",
            "_view_module_version": "1.5.0",
            "_view_name": "ProgressView",
            "bar_style": "success",
            "description": "",
            "description_tooltip": null,
            "layout": "IPY_MODEL_847c3c2fa89247b29857d208bb09f590",
            "max": 1500,
            "min": 0,
            "orientation": "horizontal",
            "style": "IPY_MODEL_075c5b2d94e446a69c16db4362c7ea5e",
            "value": 1500
          }
        },
        "3211b20926c641f0a63671ec4e062ab5": {
          "model_module": "@jupyter-widgets/controls",
          "model_name": "HTMLModel",
          "model_module_version": "1.5.0",
          "state": {
            "_dom_classes": [],
            "_model_module": "@jupyter-widgets/controls",
            "_model_module_version": "1.5.0",
            "_model_name": "HTMLModel",
            "_view_count": null,
            "_view_module": "@jupyter-widgets/controls",
            "_view_module_version": "1.5.0",
            "_view_name": "HTMLView",
            "description": "",
            "description_tooltip": null,
            "layout": "IPY_MODEL_08b62386109a471899438da75d59c05a",
            "placeholder": "​",
            "style": "IPY_MODEL_d0fab65ecae840aface65a0f3dfbe1ff",
            "value": " 1500/1500 [00:02&lt;00:00, 743.36 examples/s]"
          }
        },
        "2ca7afdd02854f4bb00504a44a2ddaba": {
          "model_module": "@jupyter-widgets/base",
          "model_name": "LayoutModel",
          "model_module_version": "1.2.0",
          "state": {
            "_model_module": "@jupyter-widgets/base",
            "_model_module_version": "1.2.0",
            "_model_name": "LayoutModel",
            "_view_count": null,
            "_view_module": "@jupyter-widgets/base",
            "_view_module_version": "1.2.0",
            "_view_name": "LayoutView",
            "align_content": null,
            "align_items": null,
            "align_self": null,
            "border": null,
            "bottom": null,
            "display": null,
            "flex": null,
            "flex_flow": null,
            "grid_area": null,
            "grid_auto_columns": null,
            "grid_auto_flow": null,
            "grid_auto_rows": null,
            "grid_column": null,
            "grid_gap": null,
            "grid_row": null,
            "grid_template_areas": null,
            "grid_template_columns": null,
            "grid_template_rows": null,
            "height": null,
            "justify_content": null,
            "justify_items": null,
            "left": null,
            "margin": null,
            "max_height": null,
            "max_width": null,
            "min_height": null,
            "min_width": null,
            "object_fit": null,
            "object_position": null,
            "order": null,
            "overflow": null,
            "overflow_x": null,
            "overflow_y": null,
            "padding": null,
            "right": null,
            "top": null,
            "visibility": null,
            "width": null
          }
        },
        "06f873c22e724c3fb89b4af859a1c4f6": {
          "model_module": "@jupyter-widgets/base",
          "model_name": "LayoutModel",
          "model_module_version": "1.2.0",
          "state": {
            "_model_module": "@jupyter-widgets/base",
            "_model_module_version": "1.2.0",
            "_model_name": "LayoutModel",
            "_view_count": null,
            "_view_module": "@jupyter-widgets/base",
            "_view_module_version": "1.2.0",
            "_view_name": "LayoutView",
            "align_content": null,
            "align_items": null,
            "align_self": null,
            "border": null,
            "bottom": null,
            "display": null,
            "flex": null,
            "flex_flow": null,
            "grid_area": null,
            "grid_auto_columns": null,
            "grid_auto_flow": null,
            "grid_auto_rows": null,
            "grid_column": null,
            "grid_gap": null,
            "grid_row": null,
            "grid_template_areas": null,
            "grid_template_columns": null,
            "grid_template_rows": null,
            "height": null,
            "justify_content": null,
            "justify_items": null,
            "left": null,
            "margin": null,
            "max_height": null,
            "max_width": null,
            "min_height": null,
            "min_width": null,
            "object_fit": null,
            "object_position": null,
            "order": null,
            "overflow": null,
            "overflow_x": null,
            "overflow_y": null,
            "padding": null,
            "right": null,
            "top": null,
            "visibility": null,
            "width": null
          }
        },
        "97b451d71e954fd4af6fcf14b87c797e": {
          "model_module": "@jupyter-widgets/controls",
          "model_name": "DescriptionStyleModel",
          "model_module_version": "1.5.0",
          "state": {
            "_model_module": "@jupyter-widgets/controls",
            "_model_module_version": "1.5.0",
            "_model_name": "DescriptionStyleModel",
            "_view_count": null,
            "_view_module": "@jupyter-widgets/base",
            "_view_module_version": "1.2.0",
            "_view_name": "StyleView",
            "description_width": ""
          }
        },
        "847c3c2fa89247b29857d208bb09f590": {
          "model_module": "@jupyter-widgets/base",
          "model_name": "LayoutModel",
          "model_module_version": "1.2.0",
          "state": {
            "_model_module": "@jupyter-widgets/base",
            "_model_module_version": "1.2.0",
            "_model_name": "LayoutModel",
            "_view_count": null,
            "_view_module": "@jupyter-widgets/base",
            "_view_module_version": "1.2.0",
            "_view_name": "LayoutView",
            "align_content": null,
            "align_items": null,
            "align_self": null,
            "border": null,
            "bottom": null,
            "display": null,
            "flex": null,
            "flex_flow": null,
            "grid_area": null,
            "grid_auto_columns": null,
            "grid_auto_flow": null,
            "grid_auto_rows": null,
            "grid_column": null,
            "grid_gap": null,
            "grid_row": null,
            "grid_template_areas": null,
            "grid_template_columns": null,
            "grid_template_rows": null,
            "height": null,
            "justify_content": null,
            "justify_items": null,
            "left": null,
            "margin": null,
            "max_height": null,
            "max_width": null,
            "min_height": null,
            "min_width": null,
            "object_fit": null,
            "object_position": null,
            "order": null,
            "overflow": null,
            "overflow_x": null,
            "overflow_y": null,
            "padding": null,
            "right": null,
            "top": null,
            "visibility": null,
            "width": null
          }
        },
        "075c5b2d94e446a69c16db4362c7ea5e": {
          "model_module": "@jupyter-widgets/controls",
          "model_name": "ProgressStyleModel",
          "model_module_version": "1.5.0",
          "state": {
            "_model_module": "@jupyter-widgets/controls",
            "_model_module_version": "1.5.0",
            "_model_name": "ProgressStyleModel",
            "_view_count": null,
            "_view_module": "@jupyter-widgets/base",
            "_view_module_version": "1.2.0",
            "_view_name": "StyleView",
            "bar_color": null,
            "description_width": ""
          }
        },
        "08b62386109a471899438da75d59c05a": {
          "model_module": "@jupyter-widgets/base",
          "model_name": "LayoutModel",
          "model_module_version": "1.2.0",
          "state": {
            "_model_module": "@jupyter-widgets/base",
            "_model_module_version": "1.2.0",
            "_model_name": "LayoutModel",
            "_view_count": null,
            "_view_module": "@jupyter-widgets/base",
            "_view_module_version": "1.2.0",
            "_view_name": "LayoutView",
            "align_content": null,
            "align_items": null,
            "align_self": null,
            "border": null,
            "bottom": null,
            "display": null,
            "flex": null,
            "flex_flow": null,
            "grid_area": null,
            "grid_auto_columns": null,
            "grid_auto_flow": null,
            "grid_auto_rows": null,
            "grid_column": null,
            "grid_gap": null,
            "grid_row": null,
            "grid_template_areas": null,
            "grid_template_columns": null,
            "grid_template_rows": null,
            "height": null,
            "justify_content": null,
            "justify_items": null,
            "left": null,
            "margin": null,
            "max_height": null,
            "max_width": null,
            "min_height": null,
            "min_width": null,
            "object_fit": null,
            "object_position": null,
            "order": null,
            "overflow": null,
            "overflow_x": null,
            "overflow_y": null,
            "padding": null,
            "right": null,
            "top": null,
            "visibility": null,
            "width": null
          }
        },
        "d0fab65ecae840aface65a0f3dfbe1ff": {
          "model_module": "@jupyter-widgets/controls",
          "model_name": "DescriptionStyleModel",
          "model_module_version": "1.5.0",
          "state": {
            "_model_module": "@jupyter-widgets/controls",
            "_model_module_version": "1.5.0",
            "_model_name": "DescriptionStyleModel",
            "_view_count": null,
            "_view_module": "@jupyter-widgets/base",
            "_view_module_version": "1.2.0",
            "_view_name": "StyleView",
            "description_width": ""
          }
        }
      }
    },
    "accelerator": "GPU"
  },
  "nbformat": 4,
  "nbformat_minor": 0
}